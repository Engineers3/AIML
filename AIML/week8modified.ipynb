{
 "cells": [
  {
   "cell_type": "code",
   "execution_count": 2,
   "id": "182a09ce-0b83-4c0d-bbd1-d04bbbf71afb",
   "metadata": {},
   "outputs": [
    {
     "name": "stdout",
     "output_type": "stream",
     "text": [
      "The Resultant Decision Tree is:\n",
      "{'outlook': {'overcast': 'yes',\n",
      "             'rainy': {'windy': {False: 'yes', True: 'no'}},\n",
      "             'sunny': {'humidity': {'high': 'no', 'normal': 'yes'}}}}\n",
      "  outlook temperature humidity  windy Predicted\n",
      "0   rainy        mild     high   True        no\n",
      "1   sunny         hot     high  False        no\n"
     ]
    }
   ],
   "source": [
    "import pandas as pd\n",
    "from collections import Counter\n",
    "import math\n",
    "from pprint import pprint\n",
    "\n",
    "def entropy(probs):\n",
    "    return sum(-prob * math.log(prob, 2) for prob in probs if prob > 0)\n",
    "\n",
    "def entropy_of_list(a_list):\n",
    "    cnt = Counter(a_list)\n",
    "    num_instances = len(a_list)\n",
    "    probs = [x / num_instances for x in cnt.values()]\n",
    "    return entropy(probs)\n",
    "\n",
    "def information_gain(df, split_attribute_name, target_attribute_name):\n",
    "    df_split = df.groupby(split_attribute_name)\n",
    "    nobs = len(df.index)\n",
    "    df_agg_ent = df_split.agg({target_attribute_name: [entropy_of_list, lambda x: len(x) / nobs]})\n",
    "    avg_info = sum(df_agg_ent[target_attribute_name]['entropy_of_list'] * df_agg_ent[target_attribute_name]['<lambda_0>'])\n",
    "    old_entropy = entropy_of_list(df[target_attribute_name])\n",
    "    return old_entropy - avg_info\n",
    "\n",
    "def id3DT(df, target_attribute_name, attribute_names, default_class=None):\n",
    "    cnt = Counter(df[target_attribute_name])\n",
    "    if len(cnt) == 1:\n",
    "        return next(iter(cnt))\n",
    "    elif df.empty or not attribute_names:\n",
    "        return default_class\n",
    "    else:\n",
    "        default_class = max(cnt, key=cnt.get)\n",
    "        gainz = [information_gain(df, attr, target_attribute_name) for attr in attribute_names]\n",
    "        index_of_max = gainz.index(max(gainz))\n",
    "        best_attr = attribute_names[index_of_max]\n",
    "        attribute_names = [i for i in attribute_names if i != best_attr]\n",
    "        tree = {best_attr: {}}\n",
    "        for attr_val, data_subset in df.groupby(best_attr):\n",
    "            subtree = id3DT(data_subset, target_attribute_name, attribute_names, default_class)\n",
    "            tree[best_attr][attr_val] = subtree\n",
    "        return tree\n",
    "\n",
    "def classify(instance, tree, default=None):\n",
    "    attribute = next(iter(tree))\n",
    "    if instance[attribute] in tree[attribute]:\n",
    "        result = tree[attribute][instance[attribute]]\n",
    "        if isinstance(result, dict):\n",
    "            return classify(instance, result)\n",
    "        else:\n",
    "            return result\n",
    "    else:\n",
    "        return default\n",
    "\n",
    "df = pd.read_csv('weather-nominal-weka.csv')\n",
    "attribute_names = list(df.columns)\n",
    "attribute_names.remove('play')\n",
    "tree = id3DT(df, 'play', attribute_names)\n",
    "print(\"The Resultant Decision Tree is:\")\n",
    "pprint(tree)\n",
    "tree1 = {'outlook': ['rainy', 'sunny'], 'temperature': ['mild', 'hot'], 'humidity': ['high', 'high'], 'windy': [True, False]}\n",
    "df2 = pd.DataFrame(tree1)\n",
    "df2['Predicted'] = df2.apply(classify, axis=1, args=(tree, 'NO'))\n",
    "print(df2[['outlook', 'temperature', 'humidity', 'windy', 'Predicted']])\n"
   ]
  },
  {
   "cell_type": "code",
   "execution_count": null,
   "id": "c0ca4da2-3ed6-4bde-9e26-fe3c2d63e540",
   "metadata": {},
   "outputs": [],
   "source": []
  }
 ],
 "metadata": {
  "kernelspec": {
   "display_name": "Python 3 (ipykernel)",
   "language": "python",
   "name": "python3"
  },
  "language_info": {
   "codemirror_mode": {
    "name": "ipython",
    "version": 3
   },
   "file_extension": ".py",
   "mimetype": "text/x-python",
   "name": "python",
   "nbconvert_exporter": "python",
   "pygments_lexer": "ipython3",
   "version": "3.12.4"
  }
 },
 "nbformat": 4,
 "nbformat_minor": 5
}
