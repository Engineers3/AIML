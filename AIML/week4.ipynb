{
 "cells": [
  {
   "cell_type": "code",
   "execution_count": 1,
   "id": "97546348-657d-4ab3-a625-ef15ea3ff867",
   "metadata": {},
   "outputs": [
    {
     "name": "stdout",
     "output_type": "stream",
     "text": [
      "Requirement already satisfied: sympy in c:\\programdata\\anaconda3\\lib\\site-packages (1.12)\n",
      "Requirement already satisfied: mpmath>=0.19 in c:\\programdata\\anaconda3\\lib\\site-packages (from sympy) (1.3.0)\n",
      "Note: you may need to restart the kernel to use updated packages.\n"
     ]
    }
   ],
   "source": [
    "pip install sympy"
   ]
  },
  {
   "cell_type": "code",
   "execution_count": 15,
   "id": "6d514d3d-9dde-40be-898e-1551323b65a0",
   "metadata": {},
   "outputs": [
    {
     "name": "stdout",
     "output_type": "stream",
     "text": [
      "It rained today.\n"
     ]
    }
   ],
   "source": [
    "from sympy import symbols, Or, Not , Implies, satisfiable\n",
    "Rain = symbols('Rain')\n",
    "Harry_Visited_Hagrid = symbols('Harry_Visited_Hagrid')\n",
    "Harry_Visited_Dumbledore = symbols('Harry_Visited_Dumbledore')\n",
    "sentence_1 = Implies(Not(Rain), Harry_Visited_Hagrid)\n",
    "sentence_2 = Or (Harry_Visited_Hagrid,Harry_Visited_Dumbledore) & Not(Harry_Visited_Hagrid & Harry_Visited_Dumbledore)\n",
    "sentence_3 = Harry_Visited_Dumbledore\n",
    "knowledge_base = sentence_1 & sentence_2 & sentence_3\n",
    "solution = satisfiable(knowledge_base, all_models=True)\n",
    "for model in solution:\n",
    "   if model[Rain]:\n",
    "       print(\"It rained today.\")\n",
    "   else:\n",
    "         print(\"It did not rain today.\")"
   ]
  },
  {
   "cell_type": "code",
   "execution_count": null,
   "id": "1f378797-d644-4478-a6de-1edb7a5a7d9d",
   "metadata": {},
   "outputs": [],
   "source": []
  }
 ],
 "metadata": {
  "kernelspec": {
   "display_name": "Python 3 (ipykernel)",
   "language": "python",
   "name": "python3"
  },
  "language_info": {
   "codemirror_mode": {
    "name": "ipython",
    "version": 3
   },
   "file_extension": ".py",
   "mimetype": "text/x-python",
   "name": "python",
   "nbconvert_exporter": "python",
   "pygments_lexer": "ipython3",
   "version": "3.12.4"
  }
 },
 "nbformat": 4,
 "nbformat_minor": 5
}
