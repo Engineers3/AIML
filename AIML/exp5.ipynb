{
 "cells": [
  {
   "cell_type": "code",
   "execution_count": 7,
   "id": "89d51a84-28f1-41a0-91d5-cdb37838ffd7",
   "metadata": {},
   "outputs": [
    {
     "ename": "ModuleNotFoundError",
     "evalue": "No module named 'pomegranate'",
     "output_type": "error",
     "traceback": [
      "\u001b[1;31m---------------------------------------------------------------------------\u001b[0m",
      "\u001b[1;31mModuleNotFoundError\u001b[0m                       Traceback (most recent call last)",
      "Cell \u001b[1;32mIn[7], line 2\u001b[0m\n\u001b[0;32m      1\u001b[0m \u001b[38;5;28;01mimport\u001b[39;00m \u001b[38;5;21;01mnumpy\u001b[39;00m\n\u001b[1;32m----> 2\u001b[0m \u001b[38;5;28;01mfrom\u001b[39;00m \u001b[38;5;21;01mpomegranate\u001b[39;00m \u001b[38;5;28;01mimport\u001b[39;00m \u001b[38;5;241m*\u001b[39m\n\u001b[0;32m      3\u001b[0m guest \u001b[38;5;241m=\u001b[39m DiscreteDistribution({\u001b[38;5;124m'\u001b[39m\u001b[38;5;124mA\u001b[39m\u001b[38;5;124m'\u001b[39m:\u001b[38;5;241m1.\u001b[39m\u001b[38;5;241m/\u001b[39m\u001b[38;5;241m3\u001b[39m,\u001b[38;5;124m'\u001b[39m\u001b[38;5;124mB\u001b[39m\u001b[38;5;124m'\u001b[39m:\u001b[38;5;241m1.\u001b[39m\u001b[38;5;241m/\u001b[39m\u001b[38;5;241m3\u001b[39m,\u001b[38;5;124m'\u001b[39m\u001b[38;5;124mC\u001b[39m\u001b[38;5;124m'\u001b[39m:\u001b[38;5;241m1.\u001b[39m\u001b[38;5;241m/\u001b[39m\u001b[38;5;241m3\u001b[39m})\n\u001b[0;32m      4\u001b[0m prize \u001b[38;5;241m=\u001b[39m DiscreteDistribution({\u001b[38;5;124m'\u001b[39m\u001b[38;5;124mA\u001b[39m\u001b[38;5;124m'\u001b[39m:\u001b[38;5;241m1.\u001b[39m\u001b[38;5;241m/\u001b[39m\u001b[38;5;241m3\u001b[39m,\u001b[38;5;124m'\u001b[39m\u001b[38;5;124mB\u001b[39m\u001b[38;5;124m'\u001b[39m:\u001b[38;5;241m1.\u001b[39m\u001b[38;5;241m/\u001b[39m\u001b[38;5;241m3\u001b[39m,\u001b[38;5;124m'\u001b[39m\u001b[38;5;124mC\u001b[39m\u001b[38;5;124m'\u001b[39m:\u001b[38;5;241m1.\u001b[39m\u001b[38;5;241m/\u001b[39m\u001b[38;5;241m3\u001b[39m})\n",
      "\u001b[1;31mModuleNotFoundError\u001b[0m: No module named 'pomegranate'"
     ]
    }
   ],
   "source": [
    "import numpy\n",
    "from pomegranate import *\n",
    "guest = DiscreteDistribution({'A':1./3,'B':1./3,'C':1./3})\n",
    "prize = DiscreteDistribution({'A':1./3,'B':1./3,'C':1./3})\n",
    "monty = ConditionalProbabilityTable(\n",
    "    [['A','A','A',0.0],\n",
    "     ['A','A','B',0.5],\n",
    "     ['A','A','C',0.5],\n",
    "     ['A','B','A',0.0],\n",
    "     ['A','B','B',0.0],\n",
    "     ['A','B','C',1.0],\n",
    "     ['A','C','A',0.0],\n",
    "     ['A','C','B',1.0],\n",
    "     ['A','C','C',0.0],\n",
    "     ['B','A','A',0.0],\n",
    "     ['B','A','B',0.0],\n",
    "     ['B','A','C',1.0],\n",
    "     ['B','B','A',0.5],\n",
    "     ['B','B','B',0.0],\n",
    "   ['B','B','C',0.5],\n",
    "     ['B','C','A',1.0],\n",
    "     ['B','C','B',0.0],\n",
    "     ['B','C','C',0.0],\n",
    "  ['C','A','A',0.0],\n",
    "     ['C','A','B',1.0],\n",
    "    ['C','A','C',0.0],\n",
    "     ['C','B','A',1.0],\n",
    "   ['C','B','B',0.0],\n",
    "     ['C','B','C',0.0],\n",
    "  ['C','C','A',0.5],\n",
    "    ['C','C','B',0.5],\n",
    "    ['C','C','C',0.0]], [guest,prize])\n",
    "s1 = State(guest, name=\"guest\")\n",
    "s2 = State(prize, name=\"prize\")\n",
    "s3 = State(monty, name=\"monty\")\n",
    "model = BayesianNetwork(\"monty Hall Problem\")\n",
    "model.add_states(s1,s2,s3)\n",
    "model.add_edge(s1,s3)\n",
    "model.add_edge(s2,s3)\n",
    "model.bake()\n",
    "print(model.probability([['A','B','C'],['A','A','C'],['A','C','C']]))\n",
    "print(model.predict([['A',None,'C'],['A','A',None],[None,'B','A']]))\n"
   ]
  },
  {
   "cell_type": "code",
   "execution_count": 8,
   "id": "1075785c-16a1-43c6-adce-653ff57c1ae7",
   "metadata": {},
   "outputs": [
    {
     "name": "stdout",
     "output_type": "stream",
     "text": [
      "Defaulting to user installation because normal site-packages is not writeable\n",
      "Requirement already satisfied: numpy in c:\\programdata\\anaconda3\\lib\\site-packages (1.26.4)\n",
      "Note: you may need to restart the kernel to use updated packages.\n"
     ]
    }
   ],
   "source": [
    "pip install numpy"
   ]
  },
  {
   "cell_type": "code",
   "execution_count": 9,
   "id": "94b96a70-fba3-4045-9fe1-9a46b2e546c5",
   "metadata": {},
   "outputs": [
    {
     "name": "stdout",
     "output_type": "stream",
     "text": [
      "Defaulting to user installation because normal site-packages is not writeable\n",
      "Requirement already satisfied: pomegranate in c:\\users\\student\\appdata\\roaming\\python\\python312\\site-packages (1.1.0)\n",
      "Requirement already satisfied: numpy>=1.22.2 in c:\\programdata\\anaconda3\\lib\\site-packages (from pomegranate) (1.26.4)\n",
      "Requirement already satisfied: scipy>=1.6.2 in c:\\programdata\\anaconda3\\lib\\site-packages (from pomegranate) (1.13.1)\n",
      "Requirement already satisfied: scikit-learn>=1.0.2 in c:\\programdata\\anaconda3\\lib\\site-packages (from pomegranate) (1.4.2)\n",
      "Requirement already satisfied: torch>=1.9.0 in c:\\users\\student\\appdata\\roaming\\python\\python312\\site-packages (from pomegranate) (2.4.0)\n",
      "Requirement already satisfied: apricot-select>=0.6.1 in c:\\users\\student\\appdata\\roaming\\python\\python312\\site-packages (from pomegranate) (0.6.1)\n",
      "Requirement already satisfied: networkx>=2.8.4 in c:\\programdata\\anaconda3\\lib\\site-packages (from pomegranate) (3.2.1)\n",
      "Requirement already satisfied: numba>=0.43.0 in c:\\programdata\\anaconda3\\lib\\site-packages (from apricot-select>=0.6.1->pomegranate) (0.59.1)\n",
      "Requirement already satisfied: tqdm>=4.24.0 in c:\\programdata\\anaconda3\\lib\\site-packages (from apricot-select>=0.6.1->pomegranate) (4.66.4)\n",
      "Requirement already satisfied: nose in c:\\users\\student\\appdata\\roaming\\python\\python312\\site-packages (from apricot-select>=0.6.1->pomegranate) (1.3.7)\n",
      "Requirement already satisfied: joblib>=1.2.0 in c:\\programdata\\anaconda3\\lib\\site-packages (from scikit-learn>=1.0.2->pomegranate) (1.4.2)\n",
      "Requirement already satisfied: threadpoolctl>=2.0.0 in c:\\programdata\\anaconda3\\lib\\site-packages (from scikit-learn>=1.0.2->pomegranate) (2.2.0)\n",
      "Requirement already satisfied: filelock in c:\\programdata\\anaconda3\\lib\\site-packages (from torch>=1.9.0->pomegranate) (3.13.1)\n",
      "Requirement already satisfied: typing-extensions>=4.8.0 in c:\\programdata\\anaconda3\\lib\\site-packages (from torch>=1.9.0->pomegranate) (4.11.0)\n",
      "Requirement already satisfied: sympy in c:\\programdata\\anaconda3\\lib\\site-packages (from torch>=1.9.0->pomegranate) (1.12)\n",
      "Requirement already satisfied: jinja2 in c:\\programdata\\anaconda3\\lib\\site-packages (from torch>=1.9.0->pomegranate) (3.1.4)\n",
      "Requirement already satisfied: fsspec in c:\\programdata\\anaconda3\\lib\\site-packages (from torch>=1.9.0->pomegranate) (2024.3.1)\n",
      "Requirement already satisfied: setuptools in c:\\programdata\\anaconda3\\lib\\site-packages (from torch>=1.9.0->pomegranate) (69.5.1)\n",
      "Requirement already satisfied: llvmlite<0.43,>=0.42.0dev0 in c:\\programdata\\anaconda3\\lib\\site-packages (from numba>=0.43.0->apricot-select>=0.6.1->pomegranate) (0.42.0)\n",
      "Requirement already satisfied: colorama in c:\\programdata\\anaconda3\\lib\\site-packages (from tqdm>=4.24.0->apricot-select>=0.6.1->pomegranate) (0.4.6)\n",
      "Requirement already satisfied: MarkupSafe>=2.0 in c:\\programdata\\anaconda3\\lib\\site-packages (from jinja2->torch>=1.9.0->pomegranate) (2.1.3)\n",
      "Requirement already satisfied: mpmath>=0.19 in c:\\programdata\\anaconda3\\lib\\site-packages (from sympy->torch>=1.9.0->pomegranate) (1.3.0)\n",
      "Note: you may need to restart the kernel to use updated packages.\n"
     ]
    }
   ],
   "source": [
    "pip install pomegranate"
   ]
  },
  {
   "cell_type": "code",
   "execution_count": 10,
   "id": "31d5b069-4dc0-47ad-b295-20f94434e8c8",
   "metadata": {},
   "outputs": [
    {
     "ename": "ModuleNotFoundError",
     "evalue": "No module named 'pomegranate'",
     "output_type": "error",
     "traceback": [
      "\u001b[1;31m---------------------------------------------------------------------------\u001b[0m",
      "\u001b[1;31mModuleNotFoundError\u001b[0m                       Traceback (most recent call last)",
      "Cell \u001b[1;32mIn[10], line 2\u001b[0m\n\u001b[0;32m      1\u001b[0m \u001b[38;5;28;01mimport\u001b[39;00m \u001b[38;5;21;01mnumpy\u001b[39;00m\n\u001b[1;32m----> 2\u001b[0m \u001b[38;5;28;01mfrom\u001b[39;00m \u001b[38;5;21;01mpomegranate\u001b[39;00m \u001b[38;5;28;01mimport\u001b[39;00m \u001b[38;5;241m*\u001b[39m\n\u001b[0;32m      3\u001b[0m guest \u001b[38;5;241m=\u001b[39m DiscreteDistribution({\u001b[38;5;124m'\u001b[39m\u001b[38;5;124mA\u001b[39m\u001b[38;5;124m'\u001b[39m:\u001b[38;5;241m1.\u001b[39m\u001b[38;5;241m/\u001b[39m\u001b[38;5;241m3\u001b[39m,\u001b[38;5;124m'\u001b[39m\u001b[38;5;124mB\u001b[39m\u001b[38;5;124m'\u001b[39m:\u001b[38;5;241m1.\u001b[39m\u001b[38;5;241m/\u001b[39m\u001b[38;5;241m3\u001b[39m,\u001b[38;5;124m'\u001b[39m\u001b[38;5;124mC\u001b[39m\u001b[38;5;124m'\u001b[39m:\u001b[38;5;241m1.\u001b[39m\u001b[38;5;241m/\u001b[39m\u001b[38;5;241m3\u001b[39m})\n\u001b[0;32m      4\u001b[0m prize \u001b[38;5;241m=\u001b[39m DiscreteDistribution({\u001b[38;5;124m'\u001b[39m\u001b[38;5;124mA\u001b[39m\u001b[38;5;124m'\u001b[39m:\u001b[38;5;241m1.\u001b[39m\u001b[38;5;241m/\u001b[39m\u001b[38;5;241m3\u001b[39m,\u001b[38;5;124m'\u001b[39m\u001b[38;5;124mB\u001b[39m\u001b[38;5;124m'\u001b[39m:\u001b[38;5;241m1.\u001b[39m\u001b[38;5;241m/\u001b[39m\u001b[38;5;241m3\u001b[39m,\u001b[38;5;124m'\u001b[39m\u001b[38;5;124mC\u001b[39m\u001b[38;5;124m'\u001b[39m:\u001b[38;5;241m1.\u001b[39m\u001b[38;5;241m/\u001b[39m\u001b[38;5;241m3\u001b[39m})\n",
      "\u001b[1;31mModuleNotFoundError\u001b[0m: No module named 'pomegranate'"
     ]
    }
   ],
   "source": [
    "import numpy\n",
    "from pomegranate import *\n",
    "guest = DiscreteDistribution({'A':1./3,'B':1./3,'C':1./3})\n",
    "prize = DiscreteDistribution({'A':1./3,'B':1./3,'C':1./3})\n",
    "monty = ConditionalProbabilityTable(\n",
    "    [['A','A','A',0.0],\n",
    "     ['A','A','B',0.5],\n",
    "     ['A','A','C',0.5],\n",
    "     ['A','B','A',0.0],\n",
    "     ['A','B','B',0.0],\n",
    "     ['A','B','C',1.0],\n",
    "     ['A','C','A',0.0],\n",
    "     ['A','C','B',1.0],\n",
    "     ['A','C','C',0.0],\n",
    "     ['B','A','A',0.0],\n",
    "     ['B','A','B',0.0],\n",
    "     ['B','A','C',1.0],\n",
    "     ['B','B','A',0.5],\n",
    "     ['B','B','B',0.0],\n",
    "   ['B','B','C',0.5],\n",
    "     ['B','C','A',1.0],\n",
    "     ['B','C','B',0.0],\n",
    "     ['B','C','C',0.0],\n",
    "  ['C','A','A',0.0],\n",
    "     ['C','A','B',1.0],\n",
    "    ['C','A','C',0.0],\n",
    "     ['C','B','A',1.0],\n",
    "   ['C','B','B',0.0],\n",
    "     ['C','B','C',0.0],\n",
    "  ['C','C','A',0.5],\n",
    "    ['C','C','B',0.5],\n",
    "    ['C','C','C',0.0]], [guest,prize])\n",
    "s1 = State(guest, name=\"guest\")\n",
    "s2 = State(prize, name=\"prize\")\n",
    "s3 = State(monty, name=\"monty\")\n",
    "model = BayesianNetwork(\"monty Hall Problem\")\n",
    "model.add_states(s1,s2,s3)\n",
    "model.add_edge(s1,s3)\n",
    "model.add_edge(s2,s3)\n",
    "model.bake()\n",
    "print(model.probability([['A','B','C'],['A','A','C'],['A','C','C']]))\n",
    "print(model.predict([['A',None,'C'],['A','A',None],[None,'B','A']]))\n"
   ]
  },
  {
   "cell_type": "code",
   "execution_count": null,
   "id": "1c092269-771c-4f64-9f7c-f06f8f4ed302",
   "metadata": {},
   "outputs": [],
   "source": []
  }
 ],
 "metadata": {
  "kernelspec": {
   "display_name": "Python 3 (ipykernel)",
   "language": "python",
   "name": "python3"
  },
  "language_info": {
   "codemirror_mode": {
    "name": "ipython",
    "version": 3
   },
   "file_extension": ".py",
   "mimetype": "text/x-python",
   "name": "python",
   "nbconvert_exporter": "python",
   "pygments_lexer": "ipython3",
   "version": "3.12.4"
  }
 },
 "nbformat": 4,
 "nbformat_minor": 5
}
