{
 "cells": [
  {
   "cell_type": "code",
   "execution_count": 1,
   "id": "95aff9d4-4955-444c-b777-130854e5aaa1",
   "metadata": {},
   "outputs": [
    {
     "name": "stdout",
     "output_type": "stream",
     "text": [
      "healthy    0.5\n",
      "sick       0.5\n",
      "Name: states, dtype: float64\n",
      "        healthy sick\n",
      "healthy     0.7  0.3\n",
      "sick        0.4  0.6\n",
      "        sleeping eating pooping\n",
      "healthy      0.2    0.6     0.2\n",
      "sick         0.4    0.1     0.5\n",
      "[('healthy', 'healthy', 'healthy'), ('healthy', 'healthy', 'sick'), ('healthy', 'sick', 'healthy'), ('healthy', 'sick', 'sick'), ('sick', 'healthy', 'healthy'), ('sick', 'healthy', 'sick'), ('sick', 'sick', 'healthy'), ('sick', 'sick', 'sick')]\n",
      "2.635148159999999e-07\n",
      "(2.7000000000000004e-08, ('healthy', 'healthy', 'healthy'))\n"
     ]
    }
   ],
   "source": [
    "import numpy as np\n",
    "import itertools\n",
    "import pandas as pd\n",
    "states=['sleeping','eating','pooping']\n",
    "hidden_states=['healthy','sick']\n",
    "pi=[0.5,0.5]\n",
    "state_space=pd.Series(pi,index=hidden_states,name='states')\n",
    "print(state_space)\n",
    "a_df=pd.DataFrame(columns=hidden_states, index=hidden_states)\n",
    "a_df.loc[hidden_states[0]] = [0.7,0.3]\n",
    "a_df.loc[hidden_states[1]] = [0.4,0.6]\n",
    "print(a_df)\n",
    "observable_states = states\n",
    "b_df=pd.DataFrame(columns=observable_states, index=hidden_states)\n",
    "b_df.loc[hidden_states[0]] = [0.2,0.6,0.2]  \n",
    "b_df.loc[hidden_states[1]] = [0.4,0.1,0.5]\n",
    "print(b_df)\n",
    "def HMM(obsq,a_df,b_df,pi,states,hidden_states):\n",
    "    hidst=list(itertools.product(hidden_states,repeat=len(obsq)))\n",
    "    print(hidst)\n",
    "    sum = 0\n",
    "    for k in hidst:\n",
    "        prod=1\n",
    "        for j in range(len(k)):\n",
    "            c=0\n",
    "            for i in obsq:\n",
    "                if c==0:\n",
    "                    prod*=a_df[i][k[j]]*pi[hidden_states.index(k[j])]\n",
    "                    c=1\n",
    "                else:\n",
    "                    prod*=b_df[k[j]][k[j-1]]*a_df[i][k[j]]\n",
    "        sum+=prod\n",
    "        c=0\n",
    "    return sum\n",
    "def vertibi(obsq,a_df,b_df,pi,states,hidden_states):\n",
    "    sum=0\n",
    "    hidst=list(itertools.product(hidden_states,repeat=len(obsq)))\n",
    "    for k in hidst:\n",
    "        sum1=0\n",
    "        prod=1\n",
    "        for j in range(len(k)):\n",
    "            c=0\n",
    "            for i in obsq:\n",
    "                if c==0:\n",
    "                    prod*=a_df[i][k[j]]*pi[hidden_states.index(k[j])] \n",
    "\n",
    "                else:\n",
    "                    prod*=b_df[k[j]][k[j-1]]*a_df[i][k[j]]\n",
    "        c=0\n",
    "        sum1+=prod\n",
    "        if(sum1>sum):\n",
    "            sum=sum1\n",
    "            hs=k\n",
    "    return sum,hs\n",
    "obsq=['eating','sleeping','sleeping']\n",
    "print(HMM(obsq,b_df,a_df,pi,states,hidden_states))\n",
    "print(vertibi(obsq,b_df,a_df,pi,states,hidden_states))\n"
   ]
  },
  {
   "cell_type": "code",
   "execution_count": null,
   "id": "81988c58-fb6e-4da1-a582-edfe719fc741",
   "metadata": {},
   "outputs": [],
   "source": []
  }
 ],
 "metadata": {
  "kernelspec": {
   "display_name": "Python 3 (ipykernel)",
   "language": "python",
   "name": "python3"
  },
  "language_info": {
   "codemirror_mode": {
    "name": "ipython",
    "version": 3
   },
   "file_extension": ".py",
   "mimetype": "text/x-python",
   "name": "python",
   "nbconvert_exporter": "python",
   "pygments_lexer": "ipython3",
   "version": "3.12.4"
  }
 },
 "nbformat": 4,
 "nbformat_minor": 5
}
