{
 "cells": [
  {
   "cell_type": "code",
   "execution_count": 1,
   "id": "ba60f248-60d3-4797-9631-fdbfde187573",
   "metadata": {},
   "outputs": [
    {
     "name": "stdout",
     "output_type": "stream",
     "text": [
      "[[2. 9.]\n",
      " [1. 5.]\n",
      " [3. 6.]]\n",
      "[[0.92]\n",
      " [0.86]\n",
      " [0.89]]\n",
      "Actual output:[[0.92]\n",
      " [0.86]\n",
      " [0.89]]\n",
      "Predicted output:[[0.86628479]\n",
      " [0.86478713]\n",
      " [0.86604793]]\n",
      "Error:[[ 0.05371521]\n",
      " [-0.00478713]\n",
      " [ 0.02395207]]\n"
     ]
    }
   ],
   "source": [
    "import numpy as np\n",
    "\n",
    "x = np.array([[2, 9], [1, 5], [3, 6]], dtype=float)\n",
    "print(x)\n",
    "\n",
    "y = np.array([[92], [86], [89]], dtype=float)\n",
    "y = y / 100\n",
    "print(y)\n",
    "\n",
    "def sigmoid(x):\n",
    "    return 1 / (1 + np.exp(-x))\n",
    "\n",
    "def derivatives_sigmoid(x):\n",
    "    return x * (1 - x)\n",
    "\n",
    "epoch = 1000\n",
    "lr = 0.01\n",
    "input_layer_neurons = 2\n",
    "hidden_layer_neurons = 2\n",
    "output_neurons = 1\n",
    "\n",
    "wh = np.random.uniform(size=(input_layer_neurons, hidden_layer_neurons))\n",
    "bh = np.random.uniform(size=(1, hidden_layer_neurons))\n",
    "wout = np.random.uniform(size=(hidden_layer_neurons, output_neurons))\n",
    "bout = np.random.uniform(size=(1, output_neurons))\n",
    "\n",
    "for i in range(epoch):\n",
    "    hinp1 = np.dot(x, wh)\n",
    "    hinp = hinp1 + bh\n",
    "    hlayer_act = sigmoid(hinp)\n",
    "    outinp1 = np.dot(hlayer_act, wout)\n",
    "    outinp = outinp1 + bout\n",
    "    output = sigmoid(outinp)\n",
    "    EO = (y - output)\n",
    "outgrad = derivatives_sigmoid(output)\n",
    "d_output = EO * outgrad\n",
    "EH = d_output.dot(wout.T)\n",
    "hiddengrad = derivatives_sigmoid(hlayer_act)\n",
    "d_hiddenlayer = EH * hiddengrad\n",
    "wout += hlayer_act.T.dot(d_output) * lr\n",
    "bout += np.sum(d_output, axis=0, keepdims=True) * lr\n",
    "wh += x.T.dot(d_hiddenlayer) * lr\n",
    "bh += np.sum(d_hiddenlayer, axis=0, keepdims=True) * lr\n",
    "print(\"Actual output:\" + str(y))\n",
    "print(\"Predicted output:\" + str(output))\n",
    "print(\"Error:\" + str(EO))"
   ]
  },
  {
   "cell_type": "code",
   "execution_count": null,
   "id": "88c748b6-b22b-41eb-8ea9-d2e2c9e30dcd",
   "metadata": {},
   "outputs": [],
   "source": []
  }
 ],
 "metadata": {
  "kernelspec": {
   "display_name": "Python 3 (ipykernel)",
   "language": "python",
   "name": "python3"
  },
  "language_info": {
   "codemirror_mode": {
    "name": "ipython",
    "version": 3
   },
   "file_extension": ".py",
   "mimetype": "text/x-python",
   "name": "python",
   "nbconvert_exporter": "python",
   "pygments_lexer": "ipython3",
   "version": "3.12.4"
  }
 },
 "nbformat": 4,
 "nbformat_minor": 5
}
