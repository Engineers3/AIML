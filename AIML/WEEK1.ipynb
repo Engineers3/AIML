{
 "cells": [
  {
   "cell_type": "code",
   "execution_count": 2,
   "id": "abede16f-f85c-42a7-850c-c3d57c704e05",
   "metadata": {},
   "outputs": [
    {
     "name": "stdout",
     "output_type": "stream",
     "text": [
      "DFS Traversal: \n",
      "1 4 5 7 96 2 3 6 \n",
      "BFS Traversal: \n",
      "1 4 2 5 7 3 6 96 "
     ]
    }
   ],
   "source": [
    "from collections import defaultdict\n",
    "\n",
    "class Graph:\n",
    "    def __init__(self):\n",
    "        self.value = defaultdict(list)\n",
    "    def drawGraph(self, parent, child):\n",
    "        self.value[parent].append(child)\n",
    "\n",
    "    def DFS(self, start):\n",
    "        visited = [start]\n",
    "        stack = [start]\n",
    "        print(start,end=\" \")\n",
    "\n",
    "        while stack:\n",
    "            s=stack[-1]\n",
    "            if any(item for item in self.value[s] if item not in visited):\n",
    "                for item in[item for item in self.value[s] if item not in visited]:\n",
    "                    stack.append(item)\n",
    "                    visited.append(item)\n",
    "                    print(item, end=\" \")\n",
    "                    break\n",
    "            else:\n",
    "                stack.pop()\n",
    "    def BFS(self, start):\n",
    "        visited=[start]\n",
    "        queue=[start]\n",
    "        while queue:\n",
    "            x=queue.pop(0)\n",
    "            print(x, end=\" \")\n",
    "            for item in self.value[x]:\n",
    "                if item not in visited:\n",
    "                    queue.append(item)\n",
    "                    visited.append(item)\n",
    "g=Graph()\n",
    "g.drawGraph(1,4)\n",
    "g.drawGraph(1,2)\n",
    "g.drawGraph(2,3)\n",
    "g.drawGraph(2,6)\n",
    "g.drawGraph(4,5)\n",
    "g.drawGraph(4,7)\n",
    "g.drawGraph(7,96)\n",
    "\n",
    "print(\"DFS Traversal: \")\n",
    "g.DFS(1)\n",
    "print(\"\\nBFS Traversal: \")\n",
    "g.BFS(1)"
   ]
  },
  {
   "cell_type": "code",
   "execution_count": null,
   "id": "cf18fdad-57ec-4bd8-ac88-164ff30b284d",
   "metadata": {},
   "outputs": [],
   "source": []
  }
 ],
 "metadata": {
  "kernelspec": {
   "display_name": "Python 3 (ipykernel)",
   "language": "python",
   "name": "python3"
  },
  "language_info": {
   "codemirror_mode": {
    "name": "ipython",
    "version": 3
   },
   "file_extension": ".py",
   "mimetype": "text/x-python",
   "name": "python",
   "nbconvert_exporter": "python",
   "pygments_lexer": "ipython3",
   "version": "3.12.4"
  }
 },
 "nbformat": 4,
 "nbformat_minor": 5
}
