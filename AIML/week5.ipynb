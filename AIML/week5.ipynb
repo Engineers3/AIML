{
 "cells": [
  {
   "cell_type": "code",
   "execution_count": 1,
   "id": "10310f98-c5e6-48c6-8bc5-36de56ec0bec",
   "metadata": {},
   "outputs": [
    {
     "name": "stdout",
     "output_type": "stream",
     "text": [
      "[0.11111111 0.05555556 0.        ]\n",
      "[array(['A', 'B', 'C'], dtype=object), array(['A', 'A', 'C'], dtype=object), array(['C', 'B', 'A'], dtype=object)]\n"
     ]
    }
   ],
   "source": [
    "import numpy\n",
    "from pomegranate import *\n",
    "guest = DiscreteDistribution({'A':1./3,'B':1./3,'C':1./3})\n",
    "prize = DiscreteDistribution({'A':1./3,'B':1./3,'C':1./3})\n",
    "monty = ConditionalProbabilityTable(\n",
    "    [['A','A','A',0.0],\n",
    "     ['A','A','B',0.5],\n",
    "     ['A','A','C',0.5],\n",
    "     ['A','B','A',0.0],\n",
    "     ['A','B','B',0.0],\n",
    "     ['A','B','C',1.0],\n",
    "     ['A','C','A',0.0],\n",
    "     ['A','C','B',1.0],\n",
    "     ['A','C','C',0.0],\n",
    "     ['B','A','A',0.0],\n",
    "     ['B','A','B',0.0],\n",
    "     ['B','A','C',1.0],\n",
    "     ['B','B','A',0.5],\n",
    "     ['B','B','B',0.0],\n",
    "   ['B','B','C',0.5],\n",
    "     ['B','C','A',1.0],\n",
    "     ['B','C','B',0.0],\n",
    "     ['B','C','C',0.0],\n",
    "  ['C','A','A',0.0],\n",
    "     ['C','A','B',1.0],\n",
    "    ['C','A','C',0.0],\n",
    "     ['C','B','A',1.0],\n",
    "   ['C','B','B',0.0],\n",
    "     ['C','B','C',0.0],\n",
    "  ['C','C','A',0.5],\n",
    "    ['C','C','B',0.5],\n",
    "    ['C','C','C',0.0]], [guest,prize])\n",
    "s1 = State(guest, name=\"guest\")\n",
    "s2 = State(prize, name=\"prize\")\n",
    "s3 = State(monty, name=\"monty\")\n",
    "model = BayesianNetwork(\"monty Hall Problem\")\n",
    "model.add_states(s1,s2,s3)\n",
    "model.add_edge(s1,s3)\n",
    "model.add_edge(s2,s3)\n",
    "model.bake()\n",
    "print(model.probability([['A','B','C'],['A','A','C'],['A','C','C']]))\n",
    "print(model.predict([['A',None,'C'],['A','A',None],[None,'B','A']]))"
   ]
  },
  {
   "cell_type": "code",
   "execution_count": null,
   "id": "2f73205f-525e-43c3-8e54-a4a51875229c",
   "metadata": {},
   "outputs": [],
   "source": []
  }
 ],
 "metadata": {
  "kernelspec": {
   "display_name": "Python 3 (ipykernel)",
   "language": "python",
   "name": "python3"
  },
  "language_info": {
   "codemirror_mode": {
    "name": "ipython",
    "version": 3
   },
   "file_extension": ".py",
   "mimetype": "text/x-python",
   "name": "python",
   "nbconvert_exporter": "python",
   "pygments_lexer": "ipython3",
   "version": "3.10.13"
  }
 },
 "nbformat": 4,
 "nbformat_minor": 5
}
