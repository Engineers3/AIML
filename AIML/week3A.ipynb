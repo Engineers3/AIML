{
 "cells": [
  {
   "cell_type": "code",
   "execution_count": 1,
   "id": "ceb0f51b-b64e-474a-b8b0-8ce0af1a4cb2",
   "metadata": {},
   "outputs": [
    {
     "name": "stdout",
     "output_type": "stream",
     "text": [
      "(1, 2, 3)\n",
      "(1, 3, 2)\n",
      "(2, 1, 3)\n",
      "(2, 3, 1)\n",
      "(3, 1, 2)\n",
      "(3, 2, 1)\n",
      "80\n"
     ]
    }
   ],
   "source": [
    "from sys import maxsize\n",
    "from itertools import permutations\n",
    "\n",
    "V=4\n",
    "def travellingSalespersonProblem(graph,s):\n",
    "    vertex=[]\n",
    "    for i in range(V):\n",
    "        if i!=s:\n",
    "            vertex.append(i)\n",
    "\n",
    "    min_path = maxsize\n",
    "    next_permutation=permutations(vertex)\n",
    "    for i in next_permutation:\n",
    "        print(i)\n",
    "        current_pathweight=0\n",
    "        k=s\n",
    "        for j in i:\n",
    "            current_pathweight += graph[k][j]\n",
    "            k=j\n",
    "        current_pathweight += graph[k][s]\n",
    "        min_path = min(min_path, current_pathweight)\n",
    "    return min_path\n",
    "\n",
    "if __name__ == \"__main__\":\n",
    "    graph = [[0,10,15,20],[10,0,35,25],[15,35,0,30],[20,25,30,0]]\n",
    "    s=0\n",
    "    print(travellingSalespersonProblem(graph,s))\n"
   ]
  },
  {
   "cell_type": "code",
   "execution_count": null,
   "id": "a22e1392-079d-41f9-9b83-19cd25253aa3",
   "metadata": {},
   "outputs": [],
   "source": []
  }
 ],
 "metadata": {
  "kernelspec": {
   "display_name": "Python 3 (ipykernel)",
   "language": "python",
   "name": "python3"
  },
  "language_info": {
   "codemirror_mode": {
    "name": "ipython",
    "version": 3
   },
   "file_extension": ".py",
   "mimetype": "text/x-python",
   "name": "python",
   "nbconvert_exporter": "python",
   "pygments_lexer": "ipython3",
   "version": "3.12.4"
  }
 },
 "nbformat": 4,
 "nbformat_minor": 5
}
